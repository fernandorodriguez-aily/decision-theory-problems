{
 "cells": [
  {
   "cell_type": "markdown",
   "id": "386133e8e473734",
   "metadata": {},
   "source": [
    "# Automated Logistics Center \n",
    "\n",
    "This notebook devles into the decision-making process for a major e-commerce company that is considering upgrading one of its logistics centers. We will leverage the following:\n",
    "\n",
    "* [Decision trees](https://en.wikipedia.org/wiki/Decision_tree) (do not confuse with [classification trees](https://en.wikipedia.org/wiki/Decision_tree_learning)).\n",
    "* [Influence diagrams](https://en.wikipedia.org/wiki/Influence_diagram).\n",
    "\n",
    "#### Table of contents:\n",
    "\n",
    "1. Framing the decision problem\n",
    "\n",
    "2. Quantifying the decision problem\n",
    "\n",
    "3. Modelling the problem with a decision tree\n",
    "\n",
    "4. Modelling the problem with an influence diagram\n",
    "\n",
    "5. Solving the influence diagram"
   ]
  },
  {
   "cell_type": "markdown",
   "id": "ec37df7922c0859b",
   "metadata": {},
   "source": [
    "## 1 - Framing the decision problem"
   ]
  },
  {
   "cell_type": "markdown",
   "id": "207ee23cd7569404",
   "metadata": {},
   "source": [
    "A major e-commerce company is considering upgrading its logistics center with an advanced robotic automation system to optimize order fulfillment. The company must choose between three options:\n",
    "\n",
    "1. Implement a conventional robotics system (higher automation but still requiring human labor in certain areas).  \n",
    "2. Implement an advanced robotic system (AI-powered automation with robotic arms for sorting and packaging).  \n",
    "3. Make no investment and retain the current logistics system.  \n",
    "\n",
    "While the advanced system promises significant efficiency improvements, it carries a higher risk of technical failures. The company must evaluate the potential benefits and risks before making a final decision.\n",
    "\n",
    "<table>\n",
    "<tr>\n",
    "  <td>\n",
    "    <img src=\"./images/logistics_center.jpg\" alt=\"Logistics Center\" width=\"500\">\n",
    "  </td>\n",
    "</tr>\n",
    "<tr>\n",
    "<i><b>Figure 1.</b> Automated Logistics Center. (<a href=\"https://www.xataka.com/robotica-e-ia/primer-almacen-gestionado-integramente-robots-sigue-necesitando-a-humanos-5-tecnicos-para-tareas-mantenimiento\">image source</a>)</i>\n",
    "</tr>\n",
    "</table>  "
   ]
  },
  {
   "cell_type": "markdown",
   "id": "c887f43378f6156d",
   "metadata": {},
   "source": [
    "### 1.1 - Options and Probabilities  "
   ]
  },
  {
   "cell_type": "markdown",
   "id": "7bbe70ec81ac190f",
   "metadata": {},
   "source": [
    "#### Conventional Robotic System:  \n",
    "- **Probability of smooth operation (no failures):** 0.95  \n",
    "- **Probability of system failure:** 0.05  \n",
    "- **Expected financial outcomes:**  \n",
    "  - **If the system operates smoothly:** €6 million in operational cost savings and efficiency gains.  \n",
    "  - **If the system fails:** -€3 million due to downtime, additional labor costs, and emergency repairs.  \n",
    "\n",
    "#### Advanced Robotic System:  \n",
    "- **Probability of success (no failures):** 0.70  \n",
    "- **Probability of minor failures:** 0.20  \n",
    "- **Probability of major failures:** 0.10  \n",
    "- **Expected financial outcomes:**  \n",
    "  - **If the system operates smoothly:** €15 million in efficiency gains, faster order processing, and lower long-term costs.  \n",
    "  - **If minor failures occur:** -€4 million due to delays, temporary manual intervention, and repairs.  \n",
    "  - **If major failures occur:** -€12 million due to prolonged downtime, system overhauls, and reputational damage."
   ]
  },
  {
   "cell_type": "markdown",
   "id": "69067203941ed165",
   "metadata": {},
   "source": [
    "### 1.2 - Optional System Feasibility Test  "
   ]
  },
  {
   "cell_type": "markdown",
   "id": "ab4b7864a9222c93",
   "metadata": {},
   "source": [
    "To reduce uncertainty before committing to the advanced system, the company can conduct an **expensive feasibility test** on critical components. The test costs **€1 million** and provides insights into the likelihood of system success or failure. The test results fall into three categories: *bad (b), good (g), or excellent (e).*  \n",
    "\n",
    "#### Test Result Probabilities  \n",
    "The probability of each test result depends on the actual performance of the robotic system:  \n",
    "\n",
    "- **If the advanced system is fully functional (success):**  \n",
    "  - P(g | success) = 0.20  \n",
    "  - P(e | success) = 0.80  \n",
    "- **If minor failures are likely:**  \n",
    "  - P(b | minor failure) = 0.30  \n",
    "  - P(g | minor failure) = 0.55  \n",
    "  - P(e | minor failure) = 0.15  \n",
    "- **If major failures are likely:**  \n",
    "  - P(b | major failure) = 0.40  \n",
    "  - P(g | major failure) = 0.40  \n",
    "  - P(e | major failure) = 0.20  "
   ]
  },
  {
   "cell_type": "markdown",
   "id": "b1739354c3638061",
   "metadata": {},
   "source": [
    "### 1.3 - Regulatory Constraints  "
   ]
  },
  {
   "cell_type": "markdown",
   "id": "8740b71281e7e742",
   "metadata": {},
   "source": [
    "If the test results are **bad (b)**, the company is prohibited from proceeding with the advanced robotic system due to **internal safety regulations and compliance requirements**. In this case, the company must choose between implementing the conventional logistics system or making no investment.  "
   ]
  },
  {
   "cell_type": "markdown",
   "id": "e09c030207904d9d",
   "metadata": {},
   "source": [
    "### 1.4 - Decision Objective  "
   ]
  },
  {
   "cell_type": "markdown",
   "id": "e14ba8efcacdea8d",
   "metadata": {},
   "source": [
    "The company must decide whether to:  \n",
    "1. Proceed without testing and implement one of the logistics systems based on expected financial outcomes.  \n",
    "2. Conduct the feasibility test to reduce uncertainty before committing to the advanced system, factoring in the additional cost of the test.  \n",
    "\n",
    "The goal is to **maximize expected net profit** by balancing potential efficiency gains with the risks of failure and the cost of uncertainty reduction."
   ]
  },
  {
   "cell_type": "markdown",
   "id": "f2c0d2965166e806",
   "metadata": {},
   "source": [
    "## 2 - Quantifying the decision problem"
   ]
  },
  {
   "cell_type": "markdown",
   "id": "a4d4c9b7-0cfc-4aef-b62a-82efa8ca13a5",
   "metadata": {},
   "source": [
    "Let's specify this information explicitly."
   ]
  },
  {
   "cell_type": "markdown",
   "id": "014c4e44-44a5-40bf-9170-67e972402767",
   "metadata": {},
   "source": [
    "### 2.1 - The utility table (<span style=\"color: blue\">U</span>)"
   ]
  },
  {
   "cell_type": "markdown",
   "id": "6ef6a054-e9d7-45d0-8d2e-1a128aa98f70",
   "metadata": {},
   "source": [
    "* <span style=\"color: red\">T</span>: Perform the test, skip the test, or take no action.\n",
    "* <span style=\"color: red\">I</span>: Implement the advanced logistics system or the conventional system.\n",
    "* <span style=\"color: purple\">A</span>: Outcomes of implementing the advanced system.\n",
    "* <span style=\"color: purple\">C</span>: Outcomes of implementing the conventional system.\n",
    "\n",
    "Notice that the test costs €1 million and that its result does not affect the utility table but does impact the expected utility.\n",
    "\n",
    "<table>\n",
    "    <tr>\n",
    "        <th><span style=\"color: red\">T</span></th>\n",
    "        <th><span style=\"color: red\">I</span></th>\n",
    "        <th><span style=\"color: purple\">A</span></th>\n",
    "        <th><span style=\"color: purple\">C</span></th>      \n",
    "        <th><span style=\"color: blue\">U</span></th>\n",
    "    </tr>\n",
    "    <tr>\n",
    "        <td>do nothing</td>\n",
    "        <td>-</td>\n",
    "        <td>-</td>\n",
    "        <td>-</td>\n",
    "        <td>0</td>\n",
    "    </tr>\n",
    "    <tr>\n",
    "        <td rowspan=\"6\">not do test</td>\n",
    "        <td>Advanced</td>\n",
    "        <td>-</td>\n",
    "        <td>-</td>\n",
    "        <td>0</td>\n",
    "  </tr>\n",
    "</table>"
   ]
  },
  {
   "cell_type": "markdown",
   "id": "d6519ff9-b97c-4522-94b3-aba0442c76c4",
   "metadata": {},
   "source": [
    "### 2.2 - The prior probability distribution of the conventional system (<span style=\"color: purple\">C</span>)"
   ]
  },
  {
   "cell_type": "markdown",
   "id": "bdd4b8cc-c85f-4871-85d7-84712662abf5",
   "metadata": {},
   "source": [
    "<table>\n",
    "  <tr>\n",
    "    <th colspan=\"2\">P(<span style=\"color: purple\">C</span>)</th>\n",
    "  </tr>\n",
    "  <tr>\n",
    "    <td>success</td>\n",
    "    <td>0.95</td>\n",
    "  </tr>\n",
    "  <tr>\n",
    "    <td>failure</td>\n",
    "    <td>0.05</td>\n",
    "  </tr>\n",
    "</table>"
   ]
  },
  {
   "cell_type": "markdown",
   "id": "284044e9-5840-423c-a304-e388ae52a9b1",
   "metadata": {},
   "source": [
    "### 2.3 - The prior probability distribution of the advanced system (<span style=\"color: purple\">A</span>)"
   ]
  },
  {
   "cell_type": "markdown",
   "id": "a56f12cb-2823-4a71-b100-1908ea9b3153",
   "metadata": {},
   "source": [
    "<table>\n",
    "  <tr>\n",
    "    <th colspan=\"2\">P(<span style=\"color: purple\">A</span>)</th>\n",
    "  </tr>\n",
    "  <tr>\n",
    "    <td>smooth</td>\n",
    "    <td>0.70</td>\n",
    "  </tr>\n",
    "  <tr>\n",
    "    <td>minor failure</td>\n",
    "    <td>0.20</td>\n",
    "  </tr>\n",
    "  <tr>\n",
    "    <td>major failure</td>\n",
    "    <td>0.10</td>\n",
    "  </tr>\n",
    "</table>"
   ]
  },
  {
   "cell_type": "markdown",
   "id": "04f27550-e0d0-4448-8170-960dcc92ccb5",
   "metadata": {},
   "source": [
    "### 2.4 - The conditional probability of the test result (<span style=\"color: purple\">R</span> | <span style=\"color: purple\">A</span>)"
   ]
  },
  {
   "cell_type": "markdown",
   "id": "c5f0f51e-7873-470f-bcb5-3389f1597511",
   "metadata": {},
   "source": [
    "The probability of each test result depends on the actual performance of the robotic system:  \n",
    "\n",
    "<table>\n",
    "    <tr>\n",
    "        <th>P(<span style=\"color: purple\">R</span> | <span style=\"color: purple\">A</span>)</th>\n",
    "        <th>Success</th>\n",
    "        <th>Minor Failure</th>\n",
    "        <th>Major Failure</th>\n",
    "    </tr>\n",
    "    <tr>\n",
    "        <td>bad</td>\n",
    "        <td>0.0</td>\n",
    "        <td>0.30</td>\n",
    "        <td>0.40</td>\n",
    "    </tr>\n",
    "    <tr>\n",
    "        <td>good</td>\n",
    "        <td>0.20</td>\n",
    "        <td>0.55</td>\n",
    "        <td>0.40</td>\n",
    "    </tr>\n",
    "    <tr>\n",
    "        <td>excellent</td>\n",
    "        <td>0.80</td>\n",
    "        <td>0.15</td>\n",
    "        <td>0.20</td>\n",
    "    </tr>\n",
    "</table>"
   ]
  },
  {
   "cell_type": "markdown",
   "id": "5a020120-6bec-4568-8c21-0de8260c8762",
   "metadata": {},
   "source": [
    "## 3 - Modelling the problem with a decision tree"
   ]
  },
  {
   "cell_type": "markdown",
   "id": "65779c6a-9282-4b6f-bd71-96d87a1f56cf",
   "metadata": {},
   "source": [
    "Notice that the test costs €1 million and that its result does not affect the utility table but does impact the expected utility.\n",
    "\n",
    "<table>\n",
    "<tr>\n",
    "  <td>\n",
    "    <img src=\"./images/logistics_decision_tree_horizontal.png\" alt=\"Decision tree for automating the logistics center\" width=\"900\">\n",
    "  </td>\n",
    "</tr>\n",
    "<tr>\n",
    "<i><b>Figure 2.</b>Decision tree for automating the logistics center</i>\n",
    "</tr>\n",
    "</table>"
   ]
  },
  {
   "cell_type": "markdown",
   "id": "ab59413d-dd15-4d32-9ad3-292d02da9060",
   "metadata": {},
   "source": [
    "## 4 - Modelling the problem with an influence diagram"
   ]
  },
  {
   "cell_type": "markdown",
   "id": "f062363d-006f-4043-b85d-54e6899a9d09",
   "metadata": {},
   "source": [
    "## 5 - Solving the influence diagram"
   ]
  },
  {
   "cell_type": "code",
   "execution_count": 1,
   "id": "4bfd74ddd9e44932",
   "metadata": {
    "ExecuteTime": {
     "end_time": "2025-02-24T16:50:31.655153Z",
     "start_time": "2025-02-24T16:50:31.282820Z"
    }
   },
   "outputs": [],
   "source": [
    "import numpy as np"
   ]
  }
 ],
 "metadata": {
  "kernelspec": {
   "display_name": "Python 3 (ipykernel)",
   "language": "python",
   "name": "python3"
  },
  "language_info": {
   "codemirror_mode": {
    "name": "ipython",
    "version": 3
   },
   "file_extension": ".py",
   "mimetype": "text/x-python",
   "name": "python",
   "nbconvert_exporter": "python",
   "pygments_lexer": "ipython3",
   "version": "3.10.6"
  }
 },
 "nbformat": 4,
 "nbformat_minor": 5
}
